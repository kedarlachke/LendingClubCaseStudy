{
 "cells": [
  {
   "cell_type": "markdown",
   "id": "c4bd18fd",
   "metadata": {},
   "source": [
    "# Lending Club Data analysis"
   ]
  },
  {
   "cell_type": "markdown",
   "id": "b7321389",
   "metadata": {},
   "source": [
    "### Importing required libraries like numpy and pandas"
   ]
  },
  {
   "cell_type": "code",
   "execution_count": 4,
   "id": "48c4b438",
   "metadata": {},
   "outputs": [],
   "source": [
    "import numpy as np\n",
    "import pandas as pd\n"
   ]
  },
  {
   "cell_type": "markdown",
   "id": "f427a49a",
   "metadata": {},
   "source": [
    "### import the loan file in the form of dataset"
   ]
  },
  {
   "cell_type": "code",
   "execution_count": 17,
   "id": "e987d8ab",
   "metadata": {},
   "outputs": [
    {
     "name": "stderr",
     "output_type": "stream",
     "text": [
      "C:\\Users\\Lkedar\\AppData\\Local\\Temp\\ipykernel_22728\\2834756692.py:1: DtypeWarning: Columns (47) have mixed types. Specify dtype option on import or set low_memory=False.\n",
      "  Loan_df = pd.read_csv('loan.csv')\n"
     ]
    }
   ],
   "source": [
    "Loan_df = pd.read_csv('loan.csv')"
   ]
  },
  {
   "cell_type": "code",
   "execution_count": 18,
   "id": "14ab5798",
   "metadata": {},
   "outputs": [
    {
     "name": "stdout",
     "output_type": "stream",
     "text": [
      "<class 'pandas.core.frame.DataFrame'>\n",
      "RangeIndex: 39717 entries, 0 to 39716\n",
      "Columns: 111 entries, id to total_il_high_credit_limit\n",
      "dtypes: float64(74), int64(13), object(24)\n",
      "memory usage: 33.6+ MB\n"
     ]
    }
   ],
   "source": [
    "#Checking the basic info of load data frame\n",
    "Loan_df.info()"
   ]
  },
  {
   "cell_type": "code",
   "execution_count": null,
   "id": "1b2cfedb",
   "metadata": {},
   "outputs": [],
   "source": [
    "#According to the above we come to know there are total 39716 rows\n",
    "#Using this info we will check how many column are blank. "
   ]
  }
 ],
 "metadata": {
  "kernelspec": {
   "display_name": "Python 3 (ipykernel)",
   "language": "python",
   "name": "python3"
  },
  "language_info": {
   "codemirror_mode": {
    "name": "ipython",
    "version": 3
   },
   "file_extension": ".py",
   "mimetype": "text/x-python",
   "name": "python",
   "nbconvert_exporter": "python",
   "pygments_lexer": "ipython3",
   "version": "3.10.9"
  }
 },
 "nbformat": 4,
 "nbformat_minor": 5
}
