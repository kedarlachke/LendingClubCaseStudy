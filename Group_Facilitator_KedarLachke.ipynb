{
 "cells": [
  {
   "cell_type": "markdown",
   "id": "3f6765ee",
   "metadata": {},
   "source": [
    "# Lending Club Data analysis"
   ]
  },
  {
   "cell_type": "markdown",
   "id": "3753280d",
   "metadata": {},
   "source": [
    "### Importing required libraries like numpy and pandas"
   ]
  },
  {
   "cell_type": "code",
   "execution_count": 417,
   "id": "8ef37e48",
   "metadata": {},
   "outputs": [],
   "source": [
    "import numpy as np\n",
    "import pandas as pd\n",
    "import matplotlib.pyplot as plt"
   ]
  },
  {
   "cell_type": "markdown",
   "id": "0ca2ba3e",
   "metadata": {},
   "source": [
    "### import the loan file in the form of dataset"
   ]
  },
  {
   "cell_type": "code",
   "execution_count": 418,
   "id": "6e97aa59",
   "metadata": {},
   "outputs": [
    {
     "name": "stderr",
     "output_type": "stream",
     "text": [
      "C:\\Users\\Lkedar\\AppData\\Local\\Temp\\ipykernel_22728\\2834756692.py:1: DtypeWarning: Columns (47) have mixed types. Specify dtype option on import or set low_memory=False.\n",
      "  Loan_df = pd.read_csv('loan.csv')\n"
     ]
    }
   ],
   "source": [
    "Loan_df = pd.read_csv('loan.csv')"
   ]
  },
  {
   "cell_type": "code",
   "execution_count": 419,
   "id": "6f33f8bb",
   "metadata": {},
   "outputs": [
    {
     "name": "stdout",
     "output_type": "stream",
     "text": [
      "<class 'pandas.core.frame.DataFrame'>\n",
      "RangeIndex: 39717 entries, 0 to 39716\n",
      "Columns: 111 entries, id to total_il_high_credit_limit\n",
      "dtypes: float64(74), int64(13), object(24)\n",
      "memory usage: 33.6+ MB\n"
     ]
    }
   ],
   "source": [
    "#Checking the basic info of load data frame\n",
    "Loan_df.info()"
   ]
  },
  {
   "cell_type": "markdown",
   "id": "97b9156a",
   "metadata": {},
   "source": [
    "#\n",
    "According to the above we come to know there are total 39716 rows\n",
    "Total number of recode:39717  \n",
    "Total no. columns: 111\n",
    "Type of Columns\n",
    "1. float64 type : 74\n",
    "2. int64: 13\n",
    "3. object:24\n",
    "\n",
    "Using this info we will check how many column are blank.\n",
    "\n",
    "\n"
   ]
  },
  {
   "cell_type": "code",
   "execution_count": 420,
   "id": "90ab9164",
   "metadata": {},
   "outputs": [
    {
     "data": {
      "text/plain": [
       "id                                0\n",
       "member_id                         0\n",
       "loan_amnt                         0\n",
       "funded_amnt                       0\n",
       "funded_amnt_inv                   0\n",
       "                              ...  \n",
       "tax_liens                        39\n",
       "tot_hi_cred_lim               39717\n",
       "total_bal_ex_mort             39717\n",
       "total_bc_limit                39717\n",
       "total_il_high_credit_limit    39717\n",
       "Length: 111, dtype: int64"
      ]
     },
     "execution_count": 420,
     "metadata": {},
     "output_type": "execute_result"
    }
   ],
   "source": [
    "Loan_df.isnull().sum()"
   ]
  },
  {
   "cell_type": "markdown",
   "id": "4fa87574",
   "metadata": {},
   "source": [
    "After execution of obove command, we observe that some column are totally blank.\n",
    "We can remove these columns\n",
    "First we'll find all name of blank columns\n"
   ]
  },
  {
   "cell_type": "code",
   "execution_count": 421,
   "id": "04aa9285",
   "metadata": {},
   "outputs": [
    {
     "data": {
      "text/plain": [
       "Index(['mths_since_last_major_derog', 'annual_inc_joint', 'dti_joint',\n",
       "       'verification_status_joint', 'tot_coll_amt', 'tot_cur_bal',\n",
       "       'open_acc_6m', 'open_il_6m', 'open_il_12m', 'open_il_24m',\n",
       "       'mths_since_rcnt_il', 'total_bal_il', 'il_util', 'open_rv_12m',\n",
       "       'open_rv_24m', 'max_bal_bc', 'all_util', 'total_rev_hi_lim', 'inq_fi',\n",
       "       'total_cu_tl', 'inq_last_12m', 'acc_open_past_24mths', 'avg_cur_bal',\n",
       "       'bc_open_to_buy', 'bc_util', 'mo_sin_old_il_acct',\n",
       "       'mo_sin_old_rev_tl_op', 'mo_sin_rcnt_rev_tl_op', 'mo_sin_rcnt_tl',\n",
       "       'mort_acc', 'mths_since_recent_bc', 'mths_since_recent_bc_dlq',\n",
       "       'mths_since_recent_inq', 'mths_since_recent_revol_delinq',\n",
       "       'num_accts_ever_120_pd', 'num_actv_bc_tl', 'num_actv_rev_tl',\n",
       "       'num_bc_sats', 'num_bc_tl', 'num_il_tl', 'num_op_rev_tl',\n",
       "       'num_rev_accts', 'num_rev_tl_bal_gt_0', 'num_sats', 'num_tl_120dpd_2m',\n",
       "       'num_tl_30dpd', 'num_tl_90g_dpd_24m', 'num_tl_op_past_12m',\n",
       "       'pct_tl_nvr_dlq', 'percent_bc_gt_75', 'tot_hi_cred_lim',\n",
       "       'total_bal_ex_mort', 'total_bc_limit', 'total_il_high_credit_limit'],\n",
       "      dtype='object')"
      ]
     },
     "execution_count": 421,
     "metadata": {},
     "output_type": "execute_result"
    }
   ],
   "source": [
    "blank_columns = Loan_df.columns[df.isnull().sum()==39717]\n",
    "blank_columns\n",
    "#below are list of columns that does't contain any data, hence can be delete"
   ]
  },
  {
   "cell_type": "code",
   "execution_count": 422,
   "id": "1a280c86",
   "metadata": {},
   "outputs": [
    {
     "data": {
      "text/plain": [
       "54"
      ]
     },
     "execution_count": 422,
     "metadata": {},
     "output_type": "execute_result"
    }
   ],
   "source": [
    "#Total Blank colmns\n",
    "len(blank_columns)"
   ]
  },
  {
   "cell_type": "raw",
   "id": "d5dfdcc1",
   "metadata": {},
   "source": [
    "So We'll drops these 54 column and capture a new data frame"
   ]
  },
  {
   "cell_type": "code",
   "execution_count": 423,
   "id": "0b252ffa",
   "metadata": {},
   "outputs": [
    {
     "data": {
      "text/html": [
       "<div>\n",
       "<style scoped>\n",
       "    .dataframe tbody tr th:only-of-type {\n",
       "        vertical-align: middle;\n",
       "    }\n",
       "\n",
       "    .dataframe tbody tr th {\n",
       "        vertical-align: top;\n",
       "    }\n",
       "\n",
       "    .dataframe thead th {\n",
       "        text-align: right;\n",
       "    }\n",
       "</style>\n",
       "<table border=\"1\" class=\"dataframe\">\n",
       "  <thead>\n",
       "    <tr style=\"text-align: right;\">\n",
       "      <th></th>\n",
       "      <th>id</th>\n",
       "      <th>member_id</th>\n",
       "      <th>loan_amnt</th>\n",
       "      <th>funded_amnt</th>\n",
       "      <th>funded_amnt_inv</th>\n",
       "      <th>term</th>\n",
       "      <th>int_rate</th>\n",
       "      <th>installment</th>\n",
       "      <th>grade</th>\n",
       "      <th>sub_grade</th>\n",
       "      <th>...</th>\n",
       "      <th>next_pymnt_d</th>\n",
       "      <th>last_credit_pull_d</th>\n",
       "      <th>collections_12_mths_ex_med</th>\n",
       "      <th>policy_code</th>\n",
       "      <th>application_type</th>\n",
       "      <th>acc_now_delinq</th>\n",
       "      <th>chargeoff_within_12_mths</th>\n",
       "      <th>delinq_amnt</th>\n",
       "      <th>pub_rec_bankruptcies</th>\n",
       "      <th>tax_liens</th>\n",
       "    </tr>\n",
       "  </thead>\n",
       "  <tbody>\n",
       "    <tr>\n",
       "      <th>0</th>\n",
       "      <td>1077501</td>\n",
       "      <td>1296599</td>\n",
       "      <td>5000</td>\n",
       "      <td>5000</td>\n",
       "      <td>4975.0</td>\n",
       "      <td>36 months</td>\n",
       "      <td>10.65%</td>\n",
       "      <td>162.87</td>\n",
       "      <td>B</td>\n",
       "      <td>B2</td>\n",
       "      <td>...</td>\n",
       "      <td>NaN</td>\n",
       "      <td>May-16</td>\n",
       "      <td>0.0</td>\n",
       "      <td>1</td>\n",
       "      <td>INDIVIDUAL</td>\n",
       "      <td>0</td>\n",
       "      <td>0.0</td>\n",
       "      <td>0</td>\n",
       "      <td>0.0</td>\n",
       "      <td>0.0</td>\n",
       "    </tr>\n",
       "    <tr>\n",
       "      <th>1</th>\n",
       "      <td>1077430</td>\n",
       "      <td>1314167</td>\n",
       "      <td>2500</td>\n",
       "      <td>2500</td>\n",
       "      <td>2500.0</td>\n",
       "      <td>60 months</td>\n",
       "      <td>15.27%</td>\n",
       "      <td>59.83</td>\n",
       "      <td>C</td>\n",
       "      <td>C4</td>\n",
       "      <td>...</td>\n",
       "      <td>NaN</td>\n",
       "      <td>Sep-13</td>\n",
       "      <td>0.0</td>\n",
       "      <td>1</td>\n",
       "      <td>INDIVIDUAL</td>\n",
       "      <td>0</td>\n",
       "      <td>0.0</td>\n",
       "      <td>0</td>\n",
       "      <td>0.0</td>\n",
       "      <td>0.0</td>\n",
       "    </tr>\n",
       "    <tr>\n",
       "      <th>2</th>\n",
       "      <td>1077175</td>\n",
       "      <td>1313524</td>\n",
       "      <td>2400</td>\n",
       "      <td>2400</td>\n",
       "      <td>2400.0</td>\n",
       "      <td>36 months</td>\n",
       "      <td>15.96%</td>\n",
       "      <td>84.33</td>\n",
       "      <td>C</td>\n",
       "      <td>C5</td>\n",
       "      <td>...</td>\n",
       "      <td>NaN</td>\n",
       "      <td>May-16</td>\n",
       "      <td>0.0</td>\n",
       "      <td>1</td>\n",
       "      <td>INDIVIDUAL</td>\n",
       "      <td>0</td>\n",
       "      <td>0.0</td>\n",
       "      <td>0</td>\n",
       "      <td>0.0</td>\n",
       "      <td>0.0</td>\n",
       "    </tr>\n",
       "    <tr>\n",
       "      <th>3</th>\n",
       "      <td>1076863</td>\n",
       "      <td>1277178</td>\n",
       "      <td>10000</td>\n",
       "      <td>10000</td>\n",
       "      <td>10000.0</td>\n",
       "      <td>36 months</td>\n",
       "      <td>13.49%</td>\n",
       "      <td>339.31</td>\n",
       "      <td>C</td>\n",
       "      <td>C1</td>\n",
       "      <td>...</td>\n",
       "      <td>NaN</td>\n",
       "      <td>Apr-16</td>\n",
       "      <td>0.0</td>\n",
       "      <td>1</td>\n",
       "      <td>INDIVIDUAL</td>\n",
       "      <td>0</td>\n",
       "      <td>0.0</td>\n",
       "      <td>0</td>\n",
       "      <td>0.0</td>\n",
       "      <td>0.0</td>\n",
       "    </tr>\n",
       "    <tr>\n",
       "      <th>4</th>\n",
       "      <td>1075358</td>\n",
       "      <td>1311748</td>\n",
       "      <td>3000</td>\n",
       "      <td>3000</td>\n",
       "      <td>3000.0</td>\n",
       "      <td>60 months</td>\n",
       "      <td>12.69%</td>\n",
       "      <td>67.79</td>\n",
       "      <td>B</td>\n",
       "      <td>B5</td>\n",
       "      <td>...</td>\n",
       "      <td>Jun-16</td>\n",
       "      <td>May-16</td>\n",
       "      <td>0.0</td>\n",
       "      <td>1</td>\n",
       "      <td>INDIVIDUAL</td>\n",
       "      <td>0</td>\n",
       "      <td>0.0</td>\n",
       "      <td>0</td>\n",
       "      <td>0.0</td>\n",
       "      <td>0.0</td>\n",
       "    </tr>\n",
       "    <tr>\n",
       "      <th>...</th>\n",
       "      <td>...</td>\n",
       "      <td>...</td>\n",
       "      <td>...</td>\n",
       "      <td>...</td>\n",
       "      <td>...</td>\n",
       "      <td>...</td>\n",
       "      <td>...</td>\n",
       "      <td>...</td>\n",
       "      <td>...</td>\n",
       "      <td>...</td>\n",
       "      <td>...</td>\n",
       "      <td>...</td>\n",
       "      <td>...</td>\n",
       "      <td>...</td>\n",
       "      <td>...</td>\n",
       "      <td>...</td>\n",
       "      <td>...</td>\n",
       "      <td>...</td>\n",
       "      <td>...</td>\n",
       "      <td>...</td>\n",
       "      <td>...</td>\n",
       "    </tr>\n",
       "    <tr>\n",
       "      <th>39712</th>\n",
       "      <td>92187</td>\n",
       "      <td>92174</td>\n",
       "      <td>2500</td>\n",
       "      <td>2500</td>\n",
       "      <td>1075.0</td>\n",
       "      <td>36 months</td>\n",
       "      <td>8.07%</td>\n",
       "      <td>78.42</td>\n",
       "      <td>A</td>\n",
       "      <td>A4</td>\n",
       "      <td>...</td>\n",
       "      <td>NaN</td>\n",
       "      <td>Jun-10</td>\n",
       "      <td>NaN</td>\n",
       "      <td>1</td>\n",
       "      <td>INDIVIDUAL</td>\n",
       "      <td>0</td>\n",
       "      <td>NaN</td>\n",
       "      <td>0</td>\n",
       "      <td>NaN</td>\n",
       "      <td>NaN</td>\n",
       "    </tr>\n",
       "    <tr>\n",
       "      <th>39713</th>\n",
       "      <td>90665</td>\n",
       "      <td>90607</td>\n",
       "      <td>8500</td>\n",
       "      <td>8500</td>\n",
       "      <td>875.0</td>\n",
       "      <td>36 months</td>\n",
       "      <td>10.28%</td>\n",
       "      <td>275.38</td>\n",
       "      <td>C</td>\n",
       "      <td>C1</td>\n",
       "      <td>...</td>\n",
       "      <td>NaN</td>\n",
       "      <td>Jul-10</td>\n",
       "      <td>NaN</td>\n",
       "      <td>1</td>\n",
       "      <td>INDIVIDUAL</td>\n",
       "      <td>0</td>\n",
       "      <td>NaN</td>\n",
       "      <td>0</td>\n",
       "      <td>NaN</td>\n",
       "      <td>NaN</td>\n",
       "    </tr>\n",
       "    <tr>\n",
       "      <th>39714</th>\n",
       "      <td>90395</td>\n",
       "      <td>90390</td>\n",
       "      <td>5000</td>\n",
       "      <td>5000</td>\n",
       "      <td>1325.0</td>\n",
       "      <td>36 months</td>\n",
       "      <td>8.07%</td>\n",
       "      <td>156.84</td>\n",
       "      <td>A</td>\n",
       "      <td>A4</td>\n",
       "      <td>...</td>\n",
       "      <td>NaN</td>\n",
       "      <td>Jun-07</td>\n",
       "      <td>NaN</td>\n",
       "      <td>1</td>\n",
       "      <td>INDIVIDUAL</td>\n",
       "      <td>0</td>\n",
       "      <td>NaN</td>\n",
       "      <td>0</td>\n",
       "      <td>NaN</td>\n",
       "      <td>NaN</td>\n",
       "    </tr>\n",
       "    <tr>\n",
       "      <th>39715</th>\n",
       "      <td>90376</td>\n",
       "      <td>89243</td>\n",
       "      <td>5000</td>\n",
       "      <td>5000</td>\n",
       "      <td>650.0</td>\n",
       "      <td>36 months</td>\n",
       "      <td>7.43%</td>\n",
       "      <td>155.38</td>\n",
       "      <td>A</td>\n",
       "      <td>A2</td>\n",
       "      <td>...</td>\n",
       "      <td>NaN</td>\n",
       "      <td>Jun-07</td>\n",
       "      <td>NaN</td>\n",
       "      <td>1</td>\n",
       "      <td>INDIVIDUAL</td>\n",
       "      <td>0</td>\n",
       "      <td>NaN</td>\n",
       "      <td>0</td>\n",
       "      <td>NaN</td>\n",
       "      <td>NaN</td>\n",
       "    </tr>\n",
       "    <tr>\n",
       "      <th>39716</th>\n",
       "      <td>87023</td>\n",
       "      <td>86999</td>\n",
       "      <td>7500</td>\n",
       "      <td>7500</td>\n",
       "      <td>800.0</td>\n",
       "      <td>36 months</td>\n",
       "      <td>13.75%</td>\n",
       "      <td>255.43</td>\n",
       "      <td>E</td>\n",
       "      <td>E2</td>\n",
       "      <td>...</td>\n",
       "      <td>NaN</td>\n",
       "      <td>Jun-10</td>\n",
       "      <td>NaN</td>\n",
       "      <td>1</td>\n",
       "      <td>INDIVIDUAL</td>\n",
       "      <td>0</td>\n",
       "      <td>NaN</td>\n",
       "      <td>0</td>\n",
       "      <td>NaN</td>\n",
       "      <td>NaN</td>\n",
       "    </tr>\n",
       "  </tbody>\n",
       "</table>\n",
       "<p>39717 rows × 57 columns</p>\n",
       "</div>"
      ],
      "text/plain": [
       "            id  member_id  loan_amnt  funded_amnt  funded_amnt_inv  \\\n",
       "0      1077501    1296599       5000         5000           4975.0   \n",
       "1      1077430    1314167       2500         2500           2500.0   \n",
       "2      1077175    1313524       2400         2400           2400.0   \n",
       "3      1076863    1277178      10000        10000          10000.0   \n",
       "4      1075358    1311748       3000         3000           3000.0   \n",
       "...        ...        ...        ...          ...              ...   \n",
       "39712    92187      92174       2500         2500           1075.0   \n",
       "39713    90665      90607       8500         8500            875.0   \n",
       "39714    90395      90390       5000         5000           1325.0   \n",
       "39715    90376      89243       5000         5000            650.0   \n",
       "39716    87023      86999       7500         7500            800.0   \n",
       "\n",
       "             term int_rate  installment grade sub_grade  ... next_pymnt_d  \\\n",
       "0       36 months   10.65%       162.87     B        B2  ...          NaN   \n",
       "1       60 months   15.27%        59.83     C        C4  ...          NaN   \n",
       "2       36 months   15.96%        84.33     C        C5  ...          NaN   \n",
       "3       36 months   13.49%       339.31     C        C1  ...          NaN   \n",
       "4       60 months   12.69%        67.79     B        B5  ...       Jun-16   \n",
       "...           ...      ...          ...   ...       ...  ...          ...   \n",
       "39712   36 months    8.07%        78.42     A        A4  ...          NaN   \n",
       "39713   36 months   10.28%       275.38     C        C1  ...          NaN   \n",
       "39714   36 months    8.07%       156.84     A        A4  ...          NaN   \n",
       "39715   36 months    7.43%       155.38     A        A2  ...          NaN   \n",
       "39716   36 months   13.75%       255.43     E        E2  ...          NaN   \n",
       "\n",
       "      last_credit_pull_d collections_12_mths_ex_med  policy_code  \\\n",
       "0                 May-16                        0.0            1   \n",
       "1                 Sep-13                        0.0            1   \n",
       "2                 May-16                        0.0            1   \n",
       "3                 Apr-16                        0.0            1   \n",
       "4                 May-16                        0.0            1   \n",
       "...                  ...                        ...          ...   \n",
       "39712             Jun-10                        NaN            1   \n",
       "39713             Jul-10                        NaN            1   \n",
       "39714             Jun-07                        NaN            1   \n",
       "39715             Jun-07                        NaN            1   \n",
       "39716             Jun-10                        NaN            1   \n",
       "\n",
       "      application_type acc_now_delinq chargeoff_within_12_mths delinq_amnt  \\\n",
       "0           INDIVIDUAL              0                      0.0           0   \n",
       "1           INDIVIDUAL              0                      0.0           0   \n",
       "2           INDIVIDUAL              0                      0.0           0   \n",
       "3           INDIVIDUAL              0                      0.0           0   \n",
       "4           INDIVIDUAL              0                      0.0           0   \n",
       "...                ...            ...                      ...         ...   \n",
       "39712       INDIVIDUAL              0                      NaN           0   \n",
       "39713       INDIVIDUAL              0                      NaN           0   \n",
       "39714       INDIVIDUAL              0                      NaN           0   \n",
       "39715       INDIVIDUAL              0                      NaN           0   \n",
       "39716       INDIVIDUAL              0                      NaN           0   \n",
       "\n",
       "      pub_rec_bankruptcies tax_liens  \n",
       "0                      0.0       0.0  \n",
       "1                      0.0       0.0  \n",
       "2                      0.0       0.0  \n",
       "3                      0.0       0.0  \n",
       "4                      0.0       0.0  \n",
       "...                    ...       ...  \n",
       "39712                  NaN       NaN  \n",
       "39713                  NaN       NaN  \n",
       "39714                  NaN       NaN  \n",
       "39715                  NaN       NaN  \n",
       "39716                  NaN       NaN  \n",
       "\n",
       "[39717 rows x 57 columns]"
      ]
     },
     "execution_count": 423,
     "metadata": {},
     "output_type": "execute_result"
    }
   ],
   "source": [
    "newloan_df = Loan_df.drop(blank_columns,axis=1)\n",
    "newloan_df\n",
    "#below is the new dataset"
   ]
  },
  {
   "cell_type": "code",
   "execution_count": 424,
   "id": "2b5c461c",
   "metadata": {},
   "outputs": [
    {
     "data": {
      "text/plain": [
       "(39717, 57)"
      ]
     },
     "execution_count": 424,
     "metadata": {},
     "output_type": "execute_result"
    }
   ],
   "source": [
    "#check shape\n",
    "newloan_df.shape      \n"
   ]
  },
  {
   "cell_type": "code",
   "execution_count": 195,
   "id": "3dafb3c2",
   "metadata": {},
   "outputs": [
    {
     "name": "stdout",
     "output_type": "stream",
     "text": [
      "<class 'pandas.core.frame.DataFrame'>\n",
      "RangeIndex: 39717 entries, 0 to 39716\n",
      "Data columns (total 57 columns):\n",
      " #   Column                      Non-Null Count  Dtype  \n",
      "---  ------                      --------------  -----  \n",
      " 0   id                          39717 non-null  int64  \n",
      " 1   member_id                   39717 non-null  int64  \n",
      " 2   loan_amnt                   39717 non-null  int64  \n",
      " 3   funded_amnt                 39717 non-null  int64  \n",
      " 4   funded_amnt_inv             39717 non-null  float64\n",
      " 5   term                        39717 non-null  object \n",
      " 6   int_rate                    39717 non-null  object \n",
      " 7   installment                 39717 non-null  float64\n",
      " 8   grade                       39717 non-null  object \n",
      " 9   sub_grade                   39717 non-null  object \n",
      " 10  emp_title                   37258 non-null  object \n",
      " 11  emp_length                  38642 non-null  object \n",
      " 12  home_ownership              39717 non-null  object \n",
      " 13  annual_inc                  39717 non-null  float64\n",
      " 14  verification_status         39717 non-null  object \n",
      " 15  issue_d                     39717 non-null  object \n",
      " 16  loan_status                 39717 non-null  object \n",
      " 17  pymnt_plan                  39717 non-null  object \n",
      " 18  url                         39717 non-null  object \n",
      " 19  desc                        26777 non-null  object \n",
      " 20  purpose                     39717 non-null  object \n",
      " 21  title                       39706 non-null  object \n",
      " 22  zip_code                    39717 non-null  object \n",
      " 23  addr_state                  39717 non-null  object \n",
      " 24  dti                         39717 non-null  float64\n",
      " 25  delinq_2yrs                 39717 non-null  int64  \n",
      " 26  earliest_cr_line            39717 non-null  object \n",
      " 27  inq_last_6mths              39717 non-null  int64  \n",
      " 28  mths_since_last_delinq      14035 non-null  float64\n",
      " 29  mths_since_last_record      2786 non-null   float64\n",
      " 30  open_acc                    39717 non-null  int64  \n",
      " 31  pub_rec                     39717 non-null  int64  \n",
      " 32  revol_bal                   39717 non-null  int64  \n",
      " 33  revol_util                  39667 non-null  object \n",
      " 34  total_acc                   39717 non-null  int64  \n",
      " 35  initial_list_status         39717 non-null  object \n",
      " 36  out_prncp                   39717 non-null  float64\n",
      " 37  out_prncp_inv               39717 non-null  float64\n",
      " 38  total_pymnt                 39717 non-null  float64\n",
      " 39  total_pymnt_inv             39717 non-null  float64\n",
      " 40  total_rec_prncp             39717 non-null  float64\n",
      " 41  total_rec_int               39717 non-null  float64\n",
      " 42  total_rec_late_fee          39717 non-null  float64\n",
      " 43  recoveries                  39717 non-null  float64\n",
      " 44  collection_recovery_fee     39717 non-null  float64\n",
      " 45  last_pymnt_d                39646 non-null  object \n",
      " 46  last_pymnt_amnt             39717 non-null  float64\n",
      " 47  next_pymnt_d                1140 non-null   object \n",
      " 48  last_credit_pull_d          39715 non-null  object \n",
      " 49  collections_12_mths_ex_med  39661 non-null  float64\n",
      " 50  policy_code                 39717 non-null  int64  \n",
      " 51  application_type            39717 non-null  object \n",
      " 52  acc_now_delinq              39717 non-null  int64  \n",
      " 53  chargeoff_within_12_mths    39661 non-null  float64\n",
      " 54  delinq_amnt                 39717 non-null  int64  \n",
      " 55  pub_rec_bankruptcies        39020 non-null  float64\n",
      " 56  tax_liens                   39678 non-null  float64\n",
      "dtypes: float64(20), int64(13), object(24)\n",
      "memory usage: 17.3+ MB\n"
     ]
    }
   ],
   "source": [
    "#check new dataframe info\n",
    "newloan_df.info()"
   ]
  },
  {
   "cell_type": "code",
   "execution_count": 425,
   "id": "6c07a65e",
   "metadata": {},
   "outputs": [
    {
     "data": {
      "text/plain": [
       "id                                0\n",
       "member_id                         0\n",
       "loan_amnt                         0\n",
       "funded_amnt                       0\n",
       "funded_amnt_inv                   0\n",
       "term                              0\n",
       "int_rate                          0\n",
       "installment                       0\n",
       "grade                             0\n",
       "sub_grade                         0\n",
       "emp_title                      2459\n",
       "emp_length                     1075\n",
       "home_ownership                    0\n",
       "annual_inc                        0\n",
       "verification_status               0\n",
       "issue_d                           0\n",
       "loan_status                       0\n",
       "pymnt_plan                        0\n",
       "url                               0\n",
       "desc                          12940\n",
       "purpose                           0\n",
       "title                            11\n",
       "zip_code                          0\n",
       "addr_state                        0\n",
       "dti                               0\n",
       "delinq_2yrs                       0\n",
       "earliest_cr_line                  0\n",
       "inq_last_6mths                    0\n",
       "mths_since_last_delinq        25682\n",
       "mths_since_last_record        36931\n",
       "open_acc                          0\n",
       "pub_rec                           0\n",
       "revol_bal                         0\n",
       "revol_util                       50\n",
       "total_acc                         0\n",
       "initial_list_status               0\n",
       "out_prncp                         0\n",
       "out_prncp_inv                     0\n",
       "total_pymnt                       0\n",
       "total_pymnt_inv                   0\n",
       "total_rec_prncp                   0\n",
       "total_rec_int                     0\n",
       "total_rec_late_fee                0\n",
       "recoveries                        0\n",
       "collection_recovery_fee           0\n",
       "last_pymnt_d                     71\n",
       "last_pymnt_amnt                   0\n",
       "next_pymnt_d                  38577\n",
       "last_credit_pull_d                2\n",
       "collections_12_mths_ex_med       56\n",
       "policy_code                       0\n",
       "application_type                  0\n",
       "acc_now_delinq                    0\n",
       "chargeoff_within_12_mths         56\n",
       "delinq_amnt                       0\n",
       "pub_rec_bankruptcies            697\n",
       "tax_liens                        39\n",
       "dtype: int64"
      ]
     },
     "execution_count": 425,
     "metadata": {},
     "output_type": "execute_result"
    }
   ],
   "source": [
    "newloan_df.isnull().sum()"
   ]
  },
  {
   "cell_type": "code",
   "execution_count": 406,
   "id": "ce35df41",
   "metadata": {},
   "outputs": [],
   "source": [
    "\n",
    "\n",
    "# After checking the isnull funtion column wise, we found out that 2 more column can be droped \n",
    "# as the missing values are more than 90%. \n",
    "#We can found out by executing the below statement for colunms\n",
    "\n",
    " "
   ]
  },
  {
   "cell_type": "code",
   "execution_count": 426,
   "id": "28502508",
   "metadata": {},
   "outputs": [
    {
     "data": {
      "text/plain": [
       "mths_since_last_record    92.985372\n",
       "next_pymnt_d              97.129693\n",
       "dtype: float64"
      ]
     },
     "execution_count": 426,
     "metadata": {},
     "output_type": "execute_result"
    }
   ],
   "source": [
    "newloan_df[['mths_since_last_record','next_pymnt_d']].isnull().sum()/len(newloan_df.index)*100"
   ]
  },
  {
   "cell_type": "code",
   "execution_count": 427,
   "id": "dd609b1b",
   "metadata": {},
   "outputs": [],
   "source": [
    "#Droping the columns which has missing valaues more than 90%\n",
    "#newloan_df = newloan_df.drop(['mths_since_last_record','next_pymnt_d'],axis=1)\n",
    "newloan_df = newloan_df.drop(['mths_since_last_record','next_pymnt_d'],axis=1)\n"
   ]
  },
  {
   "cell_type": "code",
   "execution_count": 429,
   "id": "2de0f70b",
   "metadata": {},
   "outputs": [
    {
     "data": {
      "text/plain": [
       "(39717, 54)"
      ]
     },
     "execution_count": 429,
     "metadata": {},
     "output_type": "execute_result"
    }
   ],
   "source": [
    "newloan_df.shape"
   ]
  },
  {
   "cell_type": "code",
   "execution_count": 428,
   "id": "4ba88309",
   "metadata": {},
   "outputs": [],
   "source": [
    "#we can also drop the desc column as it does hold any significance in our analysis\n",
    "newloan_df = newloan_df.drop(['desc'],axis=1)\n"
   ]
  },
  {
   "cell_type": "code",
   "execution_count": 411,
   "id": "72e69f62",
   "metadata": {},
   "outputs": [
    {
     "data": {
      "text/plain": [
       "(39717, 54)"
      ]
     },
     "execution_count": 411,
     "metadata": {},
     "output_type": "execute_result"
    }
   ],
   "source": [
    "newloan_df.shape|"
   ]
  },
  {
   "cell_type": "code",
   "execution_count": null,
   "id": "8f35f12e",
   "metadata": {},
   "outputs": [],
   "source": [
    "#Checking for row having missing values more than 5. And again validating the missing count using the index"
   ]
  },
  {
   "cell_type": "code",
   "execution_count": 412,
   "id": "d016a8fe",
   "metadata": {},
   "outputs": [
    {
     "name": "stdout",
     "output_type": "stream",
     "text": [
      "[39659, 39660]\n"
     ]
    }
   ],
   "source": [
    "index=newloan_df[newloan_df.isnull().sum(axis=1)>5].index\n",
    "print(list(index))|"
   ]
  },
  {
   "cell_type": "code",
   "execution_count": 430,
   "id": "37cc955f",
   "metadata": {},
   "outputs": [
    {
     "data": {
      "text/plain": [
       "39659    6\n",
       "39660    6\n",
       "dtype: int64"
      ]
     },
     "execution_count": 430,
     "metadata": {},
     "output_type": "execute_result"
    }
   ],
   "source": [
    "newloan_df.loc[[39659,39660]].isnull().sum(axis=1)"
   ]
  },
  {
   "cell_type": "code",
   "execution_count": 88,
   "id": "526d09e5",
   "metadata": {},
   "outputs": [],
   "source": [
    "# droping the rows using the index"
   ]
  },
  {
   "cell_type": "code",
   "execution_count": 431,
   "id": "fa6cbb4a",
   "metadata": {},
   "outputs": [],
   "source": [
    "newloan_df = newloan_df.drop(list(newloan_df[newloan_df.isnull().sum(axis=1)>5].index),axis=0)"
   ]
  },
  {
   "cell_type": "code",
   "execution_count": 432,
   "id": "52e0f432",
   "metadata": {},
   "outputs": [
    {
     "data": {
      "text/plain": [
       "(39715, 54)"
      ]
     },
     "execution_count": 432,
     "metadata": {},
     "output_type": "execute_result"
    }
   ],
   "source": [
    "newloan_df.shape"
   ]
  },
  {
   "cell_type": "markdown",
   "id": "cd570e3a",
   "metadata": {},
   "source": [
    "### Conversion of columns from object to numeric numbers"
   ]
  },
  {
   "cell_type": "code",
   "execution_count": null,
   "id": "360a24b3",
   "metadata": {},
   "outputs": [],
   "source": [
    "#Convert int_rate and emp_length columns\n"
   ]
  },
  {
   "cell_type": "code",
   "execution_count": 433,
   "id": "c5cfe64e",
   "metadata": {},
   "outputs": [],
   "source": [
    "#int_rate\n",
    "newloan_df['int_rate'] = newloan_df['int_rate'].apply(lambda x:pd.to_numeric(x.split('%')[0]))"
   ]
  },
  {
   "cell_type": "code",
   "execution_count": 434,
   "id": "42416191",
   "metadata": {},
   "outputs": [],
   "source": [
    "newloan_df['int_rate'].head()\n",
    "cleanloan = newloan_df.copy()\n",
    "newloan_df= cleanloan.copy()"
   ]
  },
  {
   "cell_type": "code",
   "execution_count": 435,
   "id": "cffdb83e",
   "metadata": {},
   "outputs": [
    {
     "data": {
      "text/plain": [
       "1075"
      ]
     },
     "execution_count": 435,
     "metadata": {},
     "output_type": "execute_result"
    }
   ],
   "source": [
    "#emp_length\n",
    "tenure_mapping = {\n",
    "    '< 1 year': 0,\n",
    "    '1 year': 1,\n",
    "    '2 years': 2,\n",
    "    '3 years': 3,\n",
    "    '4 years': 4,\n",
    "    '5 years': 5,\n",
    "    '6 years': 6,\n",
    "    '7 years': 7,\n",
    "    '8 years': 8,\n",
    "    '9 years': 9,\n",
    "    '10+ years': 10\n",
    "}\n",
    "newloan_df['emp_tenure_num'] = newloan_df['emp_length'].map(tenure_mapping)\n",
    "newloan_df['emp_tenure_num'].isnull().sum()"
   ]
  },
  {
   "cell_type": "markdown",
   "id": "30a445a7",
   "metadata": {},
   "source": [
    "###### Now that we have clean the data we will proceed to analysis. if more data cleaning as and when needed \n"
   ]
  },
  {
   "cell_type": "markdown",
   "id": "1a787b77",
   "metadata": {},
   "source": [
    "# Analysis\n",
    "Lets start with the analysis. \n",
    "First of all we'll see the percentage of defaulter in the complete cleaned dataframe"
   ]
  },
  {
   "cell_type": "code",
   "execution_count": 436,
   "id": "f295e7f0",
   "metadata": {},
   "outputs": [
    {
     "data": {
      "text/plain": [
       "Fully Paid     32948\n",
       "Charged Off     5627\n",
       "Current         1140\n",
       "Name: loan_status, dtype: int64"
      ]
     },
     "execution_count": 436,
     "metadata": {},
     "output_type": "execute_result"
    }
   ],
   "source": [
    "newloan_df['loan_status'].value_counts()"
   ]
  },
  {
   "cell_type": "code",
   "execution_count": 437,
   "id": "7666fb81",
   "metadata": {},
   "outputs": [
    {
     "name": "stdout",
     "output_type": "stream",
     "text": [
      "14.168450207730077\n"
     ]
    }
   ],
   "source": [
    "numberOfChargeOfLoan =  len(newloan_df[newloan_df['loan_status']=='Charged Off'])\n",
    "numberOfTotalRecord = len(newloan_df)\n",
    "\n",
    "percentOfDefaulters = (numberOfChargeOfLoan*100)/numberOfTotalRecord\n",
    "print(percentOfDefaulters)"
   ]
  },
  {
   "cell_type": "markdown",
   "id": "5e611fb0",
   "metadata": {},
   "source": [
    "###### So in the the complete data set there 14.16% defaulters"
   ]
  },
  {
   "cell_type": "markdown",
   "id": "f6e9943a",
   "metadata": {},
   "source": [
    "### Step used for analysis\n",
    "1. Calculate total number of applicate in specific category using group by clause from the cleaned dataframe(newloan_df) data\n",
    "2. Calculate total number of applicate in specific category using group by clause from the charged off dataframe (chargedOff_df)\n",
    "3. Calculate the percentage for the category. \n",
    "3. Then used the generated series for ploting on bar chart\n",
    "\n",
    "### 1.  Charge off loan with Grade first and the Sub-Grade on the bar char for comparison\n",
    "\n",
    " Form here on we will consider only 'Charged Off' records\n",
    " We'll try to analyse Charged Off loan with Grade"
   ]
  },
  {
   "cell_type": "code",
   "execution_count": 361,
   "id": "2cc8c47c",
   "metadata": {},
   "outputs": [],
   "source": [
    "chargedOff_df = newloan_df[newloan_df['loan_status']=='Charged Off']"
   ]
  },
  {
   "cell_type": "code",
   "execution_count": 475,
   "id": "92293a0b",
   "metadata": {},
   "outputs": [
    {
     "name": "stdout",
     "output_type": "stream",
     "text": [
      "<class 'pandas.core.series.Series'>\n"
     ]
    },
    {
     "data": {
      "image/png": "[encoded data removed]",
      "text/plain": [
       "<Figure size 640x480 with 1 Axes>"
      ]
     },
     "metadata": {},
     "output_type": "display_data"
    }
   ],
   "source": [
    "totalLoans_count_gradewise=newloan_df.groupby('grade').size()\n",
    "chargedOffloans_count_gradewise=chargedOff_df.groupby('grade').size()\n",
    "percentage_gradewise=(chargedOffloans_count_gradewise / totalLoans_count_gradewise) * 100\n",
    "plt.bar(percentage_gradewise.index, percentage_gradewise.values)\n",
    "plt.xlabel(\"Grade\")\n",
    "plt.ylabel(\"Charged Of Loan Percent\")\n",
    "plt.title(\"Percentage of changed off loans by Grade\")\n",
    "plt.show()"
   ]
  },
  {
   "cell_type": "markdown",
   "id": "10cc9339",
   "metadata": {},
   "source": [
    "After anaysing the above graph, we observe that the as the grading of the applicant decreases, charged Off loan increases.\n",
    "So we while approving the loan Grade of the applicant is one of the most important parameter to consider.\n"
   ]
  },
  {
   "cell_type": "markdown",
   "id": "de9c72e5",
   "metadata": {},
   "source": [
    "Simalar let us also check for Sub-Grade of the applicant against the charged off Loan\n"
   ]
  },
  {
   "cell_type": "code",
   "execution_count": 471,
   "id": "76c1c7c5",
   "metadata": {
    "scrolled": true
   },
   "outputs": [
    {
     "data": {
      "image/png": "[encoded data removed]",
      "text/plain": [
       "<Figure size 1000x600 with 1 Axes>"
      ]
     },
     "metadata": {},
     "output_type": "display_data"
    }
   ],
   "source": [
    "totalChargeOffLoan_count_subGradewise = newloan_df.groupby('sub_grade').size()\n",
    "chargedOffloans_count_subGradewise=chargedOff_df.groupby('sub_grade').size()\n",
    "percentage_subGradewise=(chargedOffloans_count_subGradewise / totalChargeOffLoan_count_subGradewise) * 100\n",
    "x_ticks = range(len(percentage_subGradewise.index))\n",
    "ay, ab = plt.subplots(figsize=(10, 6))\n",
    "ab.bar(percentage_subGradewise.index, percentage_subGradewise.values)\n",
    "ab.set_xlabel('Sub-Grade')\n",
    "ab.set_ylabel('Charged Of Loan Percent')\n",
    "ab.set_title('Percentage of changed off loans by Sub-Grade')\n",
    "plt.show()\n"
   ]
  },
  {
   "cell_type": "markdown",
   "id": "d80546c1",
   "metadata": {},
   "source": [
    "After analysing the above graph, we observed that as the grade drecreases the rate of charged off loan increases.\n",
    "There is minor anomaly in case of G Sub-Grade group, but the trend is same \n",
    "\n",
    "The anomaly is due to less number of applicant in G Sub-Grade group. The details are as below \n",
    "\n",
    "###### Total Applicants in G Sub-Grade group\n",
    "G1     104\n",
    "\n",
    "G2      78\n",
    "\n",
    "G3      48\n",
    "\n",
    "G4      56\n",
    "\n",
    "G5      30\n",
    "\n",
    "###### Total Applicants in G Sub-Grade group\n",
    "G1     31\n",
    "\n",
    "G2     28\n",
    "\n",
    "G3     19\n",
    "\n",
    "G4     13\n",
    "\n",
    "G5     10\n",
    "\n",
    "###### So we can conclude that Grade and charged off loans are negatively co-related and Grade and Sub-Grade prameters should be consider at the time of approving the loans  "
   ]
  },
  {
   "cell_type": "markdown",
   "id": "77dcfd07",
   "metadata": {},
   "source": [
    "### 2. Charge off Loans By Loan-term "
   ]
  },
  {
   "cell_type": "markdown",
   "id": "a6642431",
   "metadata": {},
   "source": [
    "The Column we'll be using is 'term'"
   ]
  },
  {
   "cell_type": "code",
   "execution_count": 477,
   "id": "9c7137c0",
   "metadata": {},
   "outputs": [
    {
     "data": {
      "image/png": "[encoded data removed]",
      "text/plain": [
       "<Figure size 640x480 with 1 Axes>"
      ]
     },
     "metadata": {},
     "output_type": "display_data"
    }
   ],
   "source": [
    "totalChargeOffLoan_count_term = newloan_df.groupby('term').size()\n",
    "chargedOffloans_count_term=chargedOff_df.groupby('term').size()\n",
    "percentage_term=(chargedOffloans_count_term / totalChargeOffLoan_count_term) * 100\n",
    "plt.bar(percentage_term.index, percentage_term.values)\n",
    "plt.xlabel(\"Term (in months)\")\n",
    "plt.ylabel(\"Charged Of Loan Percent\")\n",
    "plt.title(\"Percentage of changed off loans by Term\")\n",
    "plt.show()"
   ]
  },
  {
   "cell_type": "markdown",
   "id": "19bbe68e",
   "metadata": {},
   "source": [
    "After analysing the above graph, we observed that as the term increases the rate of charged off loan increases.\n",
    "But only consider Term parameter is not appropriate. Loan Amount and rate of interest should also be consider.\n",
    "But yes Term is and import parameter which should be consider at the time of approving the loan"
   ]
  },
  {
   "cell_type": "markdown",
   "id": "ff0fd3fc",
   "metadata": {},
   "source": [
    "### 3. Charge off Loans by Verification Status  "
   ]
  },
  {
   "cell_type": "markdown",
   "id": "2e44d2f9",
   "metadata": {},
   "source": [
    "The Column we'll be using is 'verification_status'"
   ]
  },
  {
   "cell_type": "code",
   "execution_count": 495,
   "id": "6f8d1911",
   "metadata": {},
   "outputs": [
    {
     "data": {
      "image/png": "[encoded data removed]",
      "text/plain": [
       "<Figure size 640x480 with 1 Axes>"
      ]
     },
     "metadata": {},
     "output_type": "display_data"
    }
   ],
   "source": [
    "totalChargeOffLoan_count_VerifyStatus = newloan_df.groupby('verification_status').size()\n",
    "chargedOffloans_count_VerifyStatus=chargedOff_df.groupby('verification_status').size()\n",
    "percentage_VerifyStatus=(chargedOffloans_count_VerifyStatus / totalChargeOffLoan_count_VerifyStatus) * 100\n",
    "plt.bar(percentage_VerifyStatus.index, percentage_VerifyStatus.values)\n",
    "plt.xlabel(\"Verification Status\")\n",
    "plt.ylabel(\"Charged Of Loan Percent\")\n",
    "plt.title(\"Percentage of changed off loans by Verification\")\n",
    "plt.show()"
   ]
  },
  {
   "cell_type": "markdown",
   "id": "3b0caf80",
   "metadata": {},
   "source": [
    "After analysing we obsered that verification of applicant does not make significant impact for charged off loan. The verification parameter should be used in combination with other parameter like Grade, Term, Loan amount"
   ]
  },
  {
   "cell_type": "markdown",
   "id": "e0fce915",
   "metadata": {},
   "source": [
    " "
   ]
  },
  {
   "cell_type": "markdown",
   "id": "84d9bb87",
   "metadata": {},
   "source": [
    "Let us analyse the Verification paratmeter a little more using pivot table."
   ]
  },
  {
   "cell_type": "code",
   "execution_count": 490,
   "id": "b4fbe031",
   "metadata": {},
   "outputs": [],
   "source": [
    "pvt_table=pd.pivot_table(chargeOff_df, values = 'loan_amnt', index=['loan_status','verification_status'], columns = ['grade'], aggfunc='count')"
   ]
  },
  {
   "cell_type": "code",
   "execution_count": 491,
   "id": "71b93e76",
   "metadata": {},
   "outputs": [],
   "source": [
    "table['A%'] = table['A'].apply(lambda x: (x*100/table['A'].sum()))\n",
    "table['B%'] = table['B'].apply(lambda x: (x*100/table['B'].sum()))\n",
    "table['C%'] = table['C'].apply(lambda x: (x*100/table['C'].sum()))\n",
    "table['D%'] = table['D'].apply(lambda x: (x*100/table['D'].sum()))\n",
    "table['E%'] = table['E'].apply(lambda x: (x*100/table['E'].sum()))\n",
    "table['F%'] = table['F'].apply(lambda x: (x*100/table['F'].sum()))\n",
    "table['G%'] = table['G'].apply(lambda x: (x*100/table['G'].sum()))"
   ]
  },
  {
   "cell_type": "code",
   "execution_count": 492,
   "id": "188eb291",
   "metadata": {},
   "outputs": [
    {
     "data": {
      "text/html": [
       "<div>\n",
       "<style scoped>\n",
       "    .dataframe tbody tr th:only-of-type {\n",
       "        vertical-align: middle;\n",
       "    }\n",
       "\n",
       "    .dataframe tbody tr th {\n",
       "        vertical-align: top;\n",
       "    }\n",
       "\n",
       "    .dataframe thead th {\n",
       "        text-align: right;\n",
       "    }\n",
       "</style>\n",
       "<table border=\"1\" class=\"dataframe\">\n",
       "  <thead>\n",
       "    <tr style=\"text-align: right;\">\n",
       "      <th>grade</th>\n",
       "      <th>loan_status</th>\n",
       "      <th>verification_status</th>\n",
       "      <th>A</th>\n",
       "      <th>B</th>\n",
       "      <th>C</th>\n",
       "      <th>D</th>\n",
       "      <th>E</th>\n",
       "      <th>F</th>\n",
       "      <th>G</th>\n",
       "      <th>A%</th>\n",
       "      <th>B%</th>\n",
       "      <th>C%</th>\n",
       "      <th>D%</th>\n",
       "      <th>E%</th>\n",
       "      <th>F%</th>\n",
       "      <th>G%</th>\n",
       "    </tr>\n",
       "  </thead>\n",
       "  <tbody>\n",
       "    <tr>\n",
       "      <th>0</th>\n",
       "      <td>Charged Off</td>\n",
       "      <td>Not Verified</td>\n",
       "      <td>316</td>\n",
       "      <td>617</td>\n",
       "      <td>586</td>\n",
       "      <td>408</td>\n",
       "      <td>150</td>\n",
       "      <td>45</td>\n",
       "      <td>17</td>\n",
       "      <td>52.491694</td>\n",
       "      <td>43.328652</td>\n",
       "      <td>43.601190</td>\n",
       "      <td>36.493739</td>\n",
       "      <td>21.008403</td>\n",
       "      <td>14.106583</td>\n",
       "      <td>16.831683</td>\n",
       "    </tr>\n",
       "    <tr>\n",
       "      <th>1</th>\n",
       "      <td>Charged Off</td>\n",
       "      <td>Source Verified</td>\n",
       "      <td>140</td>\n",
       "      <td>354</td>\n",
       "      <td>316</td>\n",
       "      <td>311</td>\n",
       "      <td>194</td>\n",
       "      <td>93</td>\n",
       "      <td>26</td>\n",
       "      <td>23.255814</td>\n",
       "      <td>24.859551</td>\n",
       "      <td>23.511905</td>\n",
       "      <td>27.817531</td>\n",
       "      <td>27.170868</td>\n",
       "      <td>29.153605</td>\n",
       "      <td>25.742574</td>\n",
       "    </tr>\n",
       "    <tr>\n",
       "      <th>2</th>\n",
       "      <td>Charged Off</td>\n",
       "      <td>Verified</td>\n",
       "      <td>146</td>\n",
       "      <td>453</td>\n",
       "      <td>442</td>\n",
       "      <td>399</td>\n",
       "      <td>370</td>\n",
       "      <td>181</td>\n",
       "      <td>58</td>\n",
       "      <td>24.252492</td>\n",
       "      <td>31.811798</td>\n",
       "      <td>32.886905</td>\n",
       "      <td>35.688730</td>\n",
       "      <td>51.820728</td>\n",
       "      <td>56.739812</td>\n",
       "      <td>57.425743</td>\n",
       "    </tr>\n",
       "  </tbody>\n",
       "</table>\n",
       "</div>"
      ],
      "text/plain": [
       "grade  loan_status verification_status    A    B    C    D    E    F   G  \\\n",
       "0      Charged Off        Not Verified  316  617  586  408  150   45  17   \n",
       "1      Charged Off     Source Verified  140  354  316  311  194   93  26   \n",
       "2      Charged Off            Verified  146  453  442  399  370  181  58   \n",
       "\n",
       "grade         A%         B%         C%         D%         E%         F%  \\\n",
       "0      52.491694  43.328652  43.601190  36.493739  21.008403  14.106583   \n",
       "1      23.255814  24.859551  23.511905  27.817531  27.170868  29.153605   \n",
       "2      24.252492  31.811798  32.886905  35.688730  51.820728  56.739812   \n",
       "\n",
       "grade         G%  \n",
       "0      16.831683  \n",
       "1      25.742574  \n",
       "2      57.425743  "
      ]
     },
     "execution_count": 492,
     "metadata": {},
     "output_type": "execute_result"
    }
   ],
   "source": [
    "table"
   ]
  },
  {
   "cell_type": "markdown",
   "id": "dd2f981a",
   "metadata": {},
   "source": [
    "Instead of calculating the percentage on total verfication categories(from cleaned data frame i.e newloan_df) we \n",
    "calculate on total charged off dataframe(i.e chargedoff_df)\n",
    "\n",
    "After analysing the data above(in the senario above), we observe that verification parameter is important when consider only charged off Loan dataframe.  \n",
    "\n",
    "There is an anomaly in E, G, F grade as the number of applicant is less"
   ]
  },
  {
   "cell_type": "markdown",
   "id": "f8ab6e24",
   "metadata": {},
   "source": [
    "### 4. Charge off Loans by Interest Rate"
   ]
  },
  {
   "cell_type": "markdown",
   "id": "c62931be",
   "metadata": {},
   "source": [
    "The Column we'll be using is 'int_rate'"
   ]
  },
  {
   "cell_type": "code",
   "execution_count": 525,
   "id": "be36c221",
   "metadata": {},
   "outputs": [
    {
     "data": {
      "image/png": "[encoded data removed]",
      "text/plain": [
       "<Figure size 640x480 with 1 Axes>"
      ]
     },
     "metadata": {},
     "output_type": "display_data"
    }
   ],
   "source": [
    "bins =  np.arange(0, 30, 1) \n",
    "totalloan_interestRate = newloan_df.groupby(pd.cut(newloan_df['int_rate'], bins))\n",
    "loan_groups_by_bin = totalloan_interestRate.size()\n",
    "chargedOff_interestRate = chargedOff_df.groupby(pd.cut(chargedOff_df['int_rate'], bins))\n",
    "\n",
    "percentage_interestRate = (chargedOff_interestRate.size() / totalloan_interestRate.size()) * 100\n",
    "width = 0.2 * (bins[1] - bins[0])\n",
    "   \n",
    "plt.bar(bins[:-1], percentage_interestRate.values, width=width, align='edge')\n",
    "plt.xlabel(\"Rate Of Interest\")\n",
    "plt.ylabel('Charged Of Loan Percent')\n",
    "plt.title('Percentage of changed off loans by Interest Rate')\n",
    "plt.show()"
   ]
  },
  {
   "cell_type": "markdown",
   "id": "cb34a672",
   "metadata": {},
   "source": [
    "After analysing the graph, it is observed that with increase in rate of interest the charged off loans increases. But rate of interest should be consider with other parameter like loan amount, term.\n",
    "\n",
    "After observing the graph we can say that rate of interest and charged of are positively co-related"
   ]
  },
  {
   "cell_type": "markdown",
   "id": "aad66766",
   "metadata": {},
   "source": [
    "### 5. Charge off Loans by Loan Amount"
   ]
  },
  {
   "cell_type": "markdown",
   "id": "91b5bb44",
   "metadata": {},
   "source": [
    "The Column we'll be using is 'loan_amnt'"
   ]
  },
  {
   "cell_type": "code",
   "execution_count": 523,
   "id": "96ae7943",
   "metadata": {},
   "outputs": [
    {
     "data": {
      "image/png": "[encoded data removed]",
      "text/plain": [
       "<Figure size 640x480 with 1 Axes>"
      ]
     },
     "metadata": {},
     "output_type": "display_data"
    }
   ],
   "source": [
    "bins =  np.arange(0, 35000, 3500) \n",
    "totalloan_interestRate = newloan_df.groupby(pd.cut(newloan_df['loan_amnt'], bins))\n",
    "loan_groups_by_bin = totalloan_interestRate.size()\n",
    "chargedOff_interestRate = chargedOff_df.groupby(pd.cut(chargedOff_df['loan_amnt'], bins))\n",
    "\n",
    "percentage_interestRate = (chargedOff_interestRate.size() / totalloan_interestRate.size()) * 100\n",
    "width = 0.1 * (bins[1] - bins[0])\n",
    "   \n",
    "plt.bar(bins[:-1], percentage_interestRate.values, width=width, align='edge')\n",
    "plt.xlabel(\"Rate Of Interest\")\n",
    "plt.ylabel('Charged Of Loan Percent')\n",
    "plt.title('Percentage of changed off loans by Interest Rate')\n",
    "plt.show()"
   ]
  },
  {
   "cell_type": "markdown",
   "id": "891584b7",
   "metadata": {},
   "source": [
    "After abserving the above graph, we observe that the loan mount does not make much significant impact on charged of loan. So with loan amount othe \n"
   ]
  },
  {
   "cell_type": "markdown",
   "id": "8c5525bb",
   "metadata": {},
   "source": []
  }
 ],
 "metadata": {
  "kernelspec": {
   "display_name": "Python 3 (ipykernel)",
   "language": "python",
   "name": "python3"
  },
  "language_info": {
   "codemirror_mode": {
    "name": "ipython",
    "version": 3
   },
   "file_extension": ".py",
   "mimetype": "text/x-python",
   "name": "python",
   "nbconvert_exporter": "python",
   "pygments_lexer": "ipython3",
   "version": "3.10.9"
  }
 },
 "nbformat": 4,
 "nbformat_minor": 5
}
