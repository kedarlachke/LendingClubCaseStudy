{
 "cells": [
  {
   "cell_type": "markdown",
   "id": "e3629992",
   "metadata": {},
   "source": [
    "# Lending Club Data analysis"
   ]
  },
  {
   "cell_type": "markdown",
   "id": "3d931847",
   "metadata": {},
   "source": [
    "### Importing required libraries like numpy and pandas"
   ]
  },
  {
   "cell_type": "code",
   "execution_count": 4,
   "id": "fe0eccb5",
   "metadata": {},
   "outputs": [],
   "source": [
    "import numpy as np\n",
    "import pandas as pd\n"
   ]
  },
  {
   "cell_type": "markdown",
   "id": "751e631b",
   "metadata": {},
   "source": [
    "### import the loan file in the form of dataset"
   ]
  },
  {
   "cell_type": "code",
   "execution_count": 17,
   "id": "587b0396",
   "metadata": {},
   "outputs": [
    {
     "name": "stderr",
     "output_type": "stream",
     "text": [
      "C:\\Users\\Lkedar\\AppData\\Local\\Temp\\ipykernel_22728\\2834756692.py:1: DtypeWarning: Columns (47) have mixed types. Specify dtype option on import or set low_memory=False.\n",
      "  Loan_df = pd.read_csv('loan.csv')\n"
     ]
    }
   ],
   "source": [
    "Loan_df = pd.read_csv('loan.csv')"
   ]
  },
  {
   "cell_type": "code",
   "execution_count": 18,
   "id": "c2667b2d",
   "metadata": {},
   "outputs": [
    {
     "name": "stdout",
     "output_type": "stream",
     "text": [
      "<class 'pandas.core.frame.DataFrame'>\n",
      "RangeIndex: 39717 entries, 0 to 39716\n",
      "Columns: 111 entries, id to total_il_high_credit_limit\n",
      "dtypes: float64(74), int64(13), object(24)\n",
      "memory usage: 33.6+ MB\n"
     ]
    }
   ],
   "source": [
    "#Checking the basic info of load data frame\n",
    "Loan_df.info()"
   ]
  },
  {
   "cell_type": "raw",
   "id": "f5d778f2",
   "metadata": {},
   "source": [
    "According to the above we come to know there are total 39716 rows\n",
    "Total number of recode:39717  \n",
    "Total no. columns: 111\n",
    "Type of Columns\n",
    "1. float64 type : 74\n",
    "2. int64: 13\n",
    "3. object:24\n",
    "\n",
    "Using this info we will check how many column are blank."
   ]
  },
  {
   "cell_type": "code",
   "execution_count": 21,
   "id": "c566e55c",
   "metadata": {},
   "outputs": [
    {
     "data": {
      "text/plain": [
       "id                                0\n",
       "member_id                         0\n",
       "loan_amnt                         0\n",
       "funded_amnt                       0\n",
       "funded_amnt_inv                   0\n",
       "                              ...  \n",
       "tax_liens                        39\n",
       "tot_hi_cred_lim               39717\n",
       "total_bal_ex_mort             39717\n",
       "total_bc_limit                39717\n",
       "total_il_high_credit_limit    39717\n",
       "Length: 111, dtype: int64"
      ]
     },
     "execution_count": 21,
     "metadata": {},
     "output_type": "execute_result"
    }
   ],
   "source": [
    "Loan_df.isnull().sum()"
   ]
  },
  {
   "cell_type": "raw",
   "id": "dcbb4475",
   "metadata": {},
   "source": [
    "After execution of obove command, we observe that some column are totally blank.\n",
    "We can remove these columns\n",
    "First we'll find all name of blank columns\n"
   ]
  },
  {
   "cell_type": "markdown",
   "id": "99ecf40f",
   "metadata": {},
   "source": [
    "blan"
   ]
  }
 ],
 "metadata": {
  "kernelspec": {
   "display_name": "Python 3 (ipykernel)",
   "language": "python",
   "name": "python3"
  },
  "language_info": {
   "codemirror_mode": {
    "name": "ipython",
    "version": 3
   },
   "file_extension": ".py",
   "mimetype": "text/x-python",
   "name": "python",
   "nbconvert_exporter": "python",
   "pygments_lexer": "ipython3",
   "version": "3.10.9"
  }
 },
 "nbformat": 4,
 "nbformat_minor": 5
}
